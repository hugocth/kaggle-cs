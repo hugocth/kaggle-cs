{
 "cells": [
  {
   "cell_type": "markdown",
   "id": "6cdebfa5",
   "metadata": {},
   "source": [
    "# CentraleSupélec ML2022 Course - Kaggle Project\n",
    "\n",
    "Classify a geographical area of interest into one of six man-made features.\n",
    "\n",
    "## Team members \n",
    "\n",
    "* Hugo Chan-To-Hing\n",
    "* Kyle Allia\n",
    "* Anne-Louise Kopff\n",
    "* Jean Arbache\n",
    "\n",
    "### Test code "
   ]
  },
  {
   "cell_type": "code",
   "execution_count": 1,
   "id": "a33dc10b",
   "metadata": {},
   "outputs": [
    {
     "name": "stdout",
     "output_type": "stream",
     "text": [
      "Done !\n"
     ]
    }
   ],
   "source": [
    "# Imports and setups\n",
    "\n",
    "import geopandas as gpd\n",
    "import pandas as pd\n",
    "import numpy as np\n",
    "from sklearn.preprocessing import LabelEncoder\n",
    "from sklearn.neighbors import KNeighborsClassifier\n",
    "from sklearn.metrics import accuracy_score\n",
    "\n",
    "print(\"Done !\")"
   ]
  },
  {
   "cell_type": "code",
   "execution_count": 2,
   "id": "9ea26241",
   "metadata": {},
   "outputs": [
    {
     "name": "stderr",
     "output_type": "stream",
     "text": [
      "C:\\Users\\hugoc\\AppData\\Roaming\\Python\\Python37\\site-packages\\ipykernel_launcher.py:10: UserWarning: Geometry is in a geographic CRS. Results from 'area' are likely incorrect. Use 'GeoSeries.to_crs()' to re-project geometries to a projected CRS before this operation.\n",
      "\n",
      "  # Remove the CWD from sys.path while we load stuff.\n",
      "C:\\Users\\hugoc\\AppData\\Roaming\\Python\\Python37\\site-packages\\ipykernel_launcher.py:14: UserWarning: Geometry is in a geographic CRS. Results from 'area' are likely incorrect. Use 'GeoSeries.to_crs()' to re-project geometries to a projected CRS before this operation.\n",
      "\n",
      "  \n"
     ]
    },
    {
     "name": "stdout",
     "output_type": "stream",
     "text": [
      "(310006, 1) (310006,) (121704, 1)\n",
      "(121704,)\n",
      "Everything is fine !\n"
     ]
    }
   ],
   "source": [
    "change_type_map = {'Demolition': 0, 'Road': 1, 'Residential': 2, 'Commercial': 3, 'Industrial': 4,\n",
    "       'Mega Projects': 5}\n",
    "\n",
    "## Read csvs\n",
    "\n",
    "train_df = gpd.read_file('train.geojson', index_col=0)\n",
    "test_df = gpd.read_file('test.geojson', index_col=0)\n",
    "\n",
    "## Filtering column \"mail_type\"\n",
    "train_x = np.asarray(train_df[['geometry']].area)\n",
    "train_x = train_x.reshape(-1, 1)\n",
    "train_y = train_df['change_type'].apply(lambda x: change_type_map[x])\n",
    "\n",
    "test_x = np.asarray(test_df[['geometry']].area)\n",
    "test_x = test_x.reshape(-1, 1)\n",
    "\n",
    "print (train_x.shape, train_y.shape, test_x.shape)\n",
    "\n",
    "\n",
    "## Train a simple OnveVsRestClassifier using featurized data\n",
    "neigh = KNeighborsClassifier(n_neighbors=3)\n",
    "neigh.fit(train_x, train_y)\n",
    "pred_y = neigh.predict(test_x)\n",
    "print (pred_y.shape)\n",
    "\n",
    "## Save results to submission file\n",
    "pred_df = pd.DataFrame(pred_y, columns=['change_type'])\n",
    "pred_df.to_csv(\"knn_sample_submission.csv\", index=True, index_label='Id')\n",
    "print(\"Everything is fine !\")"
   ]
  },
  {
   "cell_type": "code",
   "execution_count": null,
   "id": "ebf13919",
   "metadata": {},
   "outputs": [],
   "source": []
  }
 ],
 "metadata": {
  "interpreter": {
   "hash": "4f3b078249380ea762697f4f8f6aea77b3d6e43cbb1b18cbb73d8cde5aa597e7"
  },
  "kernelspec": {
   "display_name": "ML_geopandas",
   "language": "python",
   "name": "ml_geopandas"
  },
  "language_info": {
   "codemirror_mode": {
    "name": "ipython",
    "version": 3
   },
   "file_extension": ".py",
   "mimetype": "text/x-python",
   "name": "python",
   "nbconvert_exporter": "python",
   "pygments_lexer": "ipython3",
   "version": "3.7.11"
  }
 },
 "nbformat": 4,
 "nbformat_minor": 5
}
